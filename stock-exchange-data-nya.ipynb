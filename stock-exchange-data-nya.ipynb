{
 "cells": [
  {
   "cell_type": "code",
   "execution_count": 1,
   "id": "3bf12867",
   "metadata": {
    "_cell_guid": "b1076dfc-b9ad-4769-8c92-a6c4dae69d19",
    "_uuid": "8f2839f25d086af736a60e9eeb907d3b93b6e0e5",
    "execution": {
     "iopub.execute_input": "2021-08-11T13:07:31.243981Z",
     "iopub.status.busy": "2021-08-11T13:07:31.243317Z",
     "iopub.status.idle": "2021-08-11T13:07:37.598772Z",
     "shell.execute_reply": "2021-08-11T13:07:37.598229Z",
     "shell.execute_reply.started": "2021-08-11T12:36:31.505540Z"
    },
    "papermill": {
     "duration": 6.386025,
     "end_time": "2021-08-11T13:07:37.598914",
     "exception": false,
     "start_time": "2021-08-11T13:07:31.212889",
     "status": "completed"
    },
    "tags": []
   },
   "outputs": [
    {
     "name": "stdout",
     "output_type": "stream",
     "text": [
      "/kaggle/input/stock-exchange-data/indexProcessed.csv\n",
      "/kaggle/input/stock-exchange-data/indexData.csv\n",
      "/kaggle/input/stock-exchange-data/indexInfo.csv\n"
     ]
    }
   ],
   "source": [
    "import numpy as np \n",
    "import pandas as pd\n",
    "import math\n",
    "from sklearn.preprocessing import MinMaxScaler\n",
    "from keras.models import Sequential\n",
    "from keras.layers import Dense, LSTM\n",
    "import tensorflow as tf\n",
    "from tensorflow import keras\n",
    "import matplotlib.pyplot as plt\n",
    "from pandas_profiling import ProfileReport\n",
    "\n",
    "import os\n",
    "for dirname, _, filenames in os.walk('/kaggle/input'):\n",
    "    for filename in filenames:\n",
    "        print(os.path.join(dirname, filename))"
   ]
  },
  {
   "cell_type": "code",
   "execution_count": 2,
   "id": "bc7b9f71",
   "metadata": {
    "execution": {
     "iopub.execute_input": "2021-08-11T13:07:37.633918Z",
     "iopub.status.busy": "2021-08-11T13:07:37.633398Z",
     "iopub.status.idle": "2021-08-11T13:07:37.995357Z",
     "shell.execute_reply": "2021-08-11T13:07:37.995735Z",
     "shell.execute_reply.started": "2021-08-11T12:36:31.518449Z"
    },
    "papermill": {
     "duration": 0.381625,
     "end_time": "2021-08-11T13:07:37.995883",
     "exception": false,
     "start_time": "2021-08-11T13:07:37.614258",
     "status": "completed"
    },
    "tags": []
   },
   "outputs": [
    {
     "name": "stdout",
     "output_type": "stream",
     "text": [
      "(112457, 7)\n",
      "\n",
      "<class 'pandas.core.frame.DataFrame'>\n",
      "DatetimeIndex: 112457 entries, 1965-12-31 to 2021-06-02\n",
      "Data columns (total 7 columns):\n",
      " #   Column     Non-Null Count   Dtype  \n",
      "---  ------     --------------   -----  \n",
      " 0   Index      112457 non-null  object \n",
      " 1   Open       110253 non-null  float64\n",
      " 2   High       110253 non-null  float64\n",
      " 3   Low        110253 non-null  float64\n",
      " 4   Close      110253 non-null  float64\n",
      " 5   Adj Close  110253 non-null  float64\n",
      " 6   Volume     110253 non-null  float64\n",
      "dtypes: float64(6), object(1)\n",
      "memory usage: 6.9+ MB\n",
      "None\n"
     ]
    },
    {
     "data": {
      "text/html": [
       "<style  type=\"text/css\" >\n",
       "#T_87521_row0_col1,#T_87521_row0_col2,#T_87521_row0_col3,#T_87521_row0_col4,#T_87521_row0_col5{\n",
       "            background-color:  #fdaf62;\n",
       "            color:  #000000;\n",
       "        }#T_87521_row0_col6,#T_87521_row1_col1,#T_87521_row1_col2,#T_87521_row1_col3,#T_87521_row1_col4,#T_87521_row1_col5,#T_87521_row1_col6,#T_87521_row2_col6,#T_87521_row3_col6,#T_87521_row4_col6{\n",
       "            background-color:  #9e0142;\n",
       "            color:  #f1f1f1;\n",
       "        }#T_87521_row2_col1,#T_87521_row2_col2,#T_87521_row2_col3,#T_87521_row2_col4,#T_87521_row2_col5{\n",
       "            background-color:  #de4c4b;\n",
       "            color:  #000000;\n",
       "        }#T_87521_row3_col1,#T_87521_row3_col2,#T_87521_row3_col3,#T_87521_row3_col4,#T_87521_row3_col5{\n",
       "            background-color:  #64c0a6;\n",
       "            color:  #000000;\n",
       "        }#T_87521_row4_col1,#T_87521_row4_col2,#T_87521_row4_col3,#T_87521_row4_col4,#T_87521_row4_col5{\n",
       "            background-color:  #5e4fa2;\n",
       "            color:  #f1f1f1;\n",
       "        }</style><table id=\"T_87521_\" ><thead>    <tr>        <th class=\"blank level0\" ></th>        <th class=\"col_heading level0 col0\" >Index</th>        <th class=\"col_heading level0 col1\" >Open</th>        <th class=\"col_heading level0 col2\" >High</th>        <th class=\"col_heading level0 col3\" >Low</th>        <th class=\"col_heading level0 col4\" >Close</th>        <th class=\"col_heading level0 col5\" >Adj Close</th>        <th class=\"col_heading level0 col6\" >Volume</th>    </tr>    <tr>        <th class=\"index_name level0\" >Date</th>        <th class=\"blank\" ></th>        <th class=\"blank\" ></th>        <th class=\"blank\" ></th>        <th class=\"blank\" ></th>        <th class=\"blank\" ></th>        <th class=\"blank\" ></th>        <th class=\"blank\" ></th>    </tr></thead><tbody>\n",
       "                <tr>\n",
       "                        <th id=\"T_87521_level0_row0\" class=\"row_heading level0 row0\" >1965-12-31 00:00:00</th>\n",
       "                        <td id=\"T_87521_row0_col0\" class=\"data row0 col0\" >NYA</td>\n",
       "                        <td id=\"T_87521_row0_col1\" class=\"data row0 col1\" >528.690002</td>\n",
       "                        <td id=\"T_87521_row0_col2\" class=\"data row0 col2\" >528.690002</td>\n",
       "                        <td id=\"T_87521_row0_col3\" class=\"data row0 col3\" >528.690002</td>\n",
       "                        <td id=\"T_87521_row0_col4\" class=\"data row0 col4\" >528.690002</td>\n",
       "                        <td id=\"T_87521_row0_col5\" class=\"data row0 col5\" >528.690002</td>\n",
       "                        <td id=\"T_87521_row0_col6\" class=\"data row0 col6\" >0.000000</td>\n",
       "            </tr>\n",
       "            <tr>\n",
       "                        <th id=\"T_87521_level0_row1\" class=\"row_heading level0 row1\" >1966-01-03 00:00:00</th>\n",
       "                        <td id=\"T_87521_row1_col0\" class=\"data row1 col0\" >NYA</td>\n",
       "                        <td id=\"T_87521_row1_col1\" class=\"data row1 col1\" >527.210022</td>\n",
       "                        <td id=\"T_87521_row1_col2\" class=\"data row1 col2\" >527.210022</td>\n",
       "                        <td id=\"T_87521_row1_col3\" class=\"data row1 col3\" >527.210022</td>\n",
       "                        <td id=\"T_87521_row1_col4\" class=\"data row1 col4\" >527.210022</td>\n",
       "                        <td id=\"T_87521_row1_col5\" class=\"data row1 col5\" >527.210022</td>\n",
       "                        <td id=\"T_87521_row1_col6\" class=\"data row1 col6\" >0.000000</td>\n",
       "            </tr>\n",
       "            <tr>\n",
       "                        <th id=\"T_87521_level0_row2\" class=\"row_heading level0 row2\" >1966-01-04 00:00:00</th>\n",
       "                        <td id=\"T_87521_row2_col0\" class=\"data row2 col0\" >NYA</td>\n",
       "                        <td id=\"T_87521_row2_col1\" class=\"data row2 col1\" >527.840027</td>\n",
       "                        <td id=\"T_87521_row2_col2\" class=\"data row2 col2\" >527.840027</td>\n",
       "                        <td id=\"T_87521_row2_col3\" class=\"data row2 col3\" >527.840027</td>\n",
       "                        <td id=\"T_87521_row2_col4\" class=\"data row2 col4\" >527.840027</td>\n",
       "                        <td id=\"T_87521_row2_col5\" class=\"data row2 col5\" >527.840027</td>\n",
       "                        <td id=\"T_87521_row2_col6\" class=\"data row2 col6\" >0.000000</td>\n",
       "            </tr>\n",
       "            <tr>\n",
       "                        <th id=\"T_87521_level0_row3\" class=\"row_heading level0 row3\" >1966-01-05 00:00:00</th>\n",
       "                        <td id=\"T_87521_row3_col0\" class=\"data row3 col0\" >NYA</td>\n",
       "                        <td id=\"T_87521_row3_col1\" class=\"data row3 col1\" >531.119995</td>\n",
       "                        <td id=\"T_87521_row3_col2\" class=\"data row3 col2\" >531.119995</td>\n",
       "                        <td id=\"T_87521_row3_col3\" class=\"data row3 col3\" >531.119995</td>\n",
       "                        <td id=\"T_87521_row3_col4\" class=\"data row3 col4\" >531.119995</td>\n",
       "                        <td id=\"T_87521_row3_col5\" class=\"data row3 col5\" >531.119995</td>\n",
       "                        <td id=\"T_87521_row3_col6\" class=\"data row3 col6\" >0.000000</td>\n",
       "            </tr>\n",
       "            <tr>\n",
       "                        <th id=\"T_87521_level0_row4\" class=\"row_heading level0 row4\" >1966-01-06 00:00:00</th>\n",
       "                        <td id=\"T_87521_row4_col0\" class=\"data row4 col0\" >NYA</td>\n",
       "                        <td id=\"T_87521_row4_col1\" class=\"data row4 col1\" >532.070007</td>\n",
       "                        <td id=\"T_87521_row4_col2\" class=\"data row4 col2\" >532.070007</td>\n",
       "                        <td id=\"T_87521_row4_col3\" class=\"data row4 col3\" >532.070007</td>\n",
       "                        <td id=\"T_87521_row4_col4\" class=\"data row4 col4\" >532.070007</td>\n",
       "                        <td id=\"T_87521_row4_col5\" class=\"data row4 col5\" >532.070007</td>\n",
       "                        <td id=\"T_87521_row4_col6\" class=\"data row4 col6\" >0.000000</td>\n",
       "            </tr>\n",
       "    </tbody></table>"
      ],
      "text/plain": [
       "<pandas.io.formats.style.Styler at 0x7f0f309a0b90>"
      ]
     },
     "execution_count": 2,
     "metadata": {},
     "output_type": "execute_result"
    }
   ],
   "source": [
    "# Get stock quote\n",
    "df = pd.read_csv('/kaggle/input/stock-exchange-data/indexData.csv', index_col='Date', parse_dates = True)\n",
    "print(df.shape)\n",
    "print()\n",
    "print(df.info())\n",
    "\n",
    "df.head().style.background_gradient(cmap=\"Spectral\")"
   ]
  },
  {
   "cell_type": "code",
   "execution_count": 3,
   "id": "dad8524a",
   "metadata": {
    "execution": {
     "iopub.execute_input": "2021-08-11T13:07:38.032182Z",
     "iopub.status.busy": "2021-08-11T13:07:38.031439Z",
     "iopub.status.idle": "2021-08-11T13:07:38.114151Z",
     "shell.execute_reply": "2021-08-11T13:07:38.113666Z",
     "shell.execute_reply.started": "2021-08-11T12:36:31.735497Z"
    },
    "papermill": {
     "duration": 0.102827,
     "end_time": "2021-08-11T13:07:38.114290",
     "exception": false,
     "start_time": "2021-08-11T13:07:38.011463",
     "status": "completed"
    },
    "tags": []
   },
   "outputs": [
    {
     "name": "stdout",
     "output_type": "stream",
     "text": [
      "(13947, 7)\n",
      "\n",
      "<class 'pandas.core.frame.DataFrame'>\n",
      "DatetimeIndex: 13947 entries, 1965-12-31 to 2021-05-28\n",
      "Data columns (total 7 columns):\n",
      " #   Column     Non-Null Count  Dtype  \n",
      "---  ------     --------------  -----  \n",
      " 0   Index      13947 non-null  object \n",
      " 1   Open       13947 non-null  float64\n",
      " 2   High       13947 non-null  float64\n",
      " 3   Low        13947 non-null  float64\n",
      " 4   Close      13947 non-null  float64\n",
      " 5   Adj Close  13947 non-null  float64\n",
      " 6   Volume     13947 non-null  float64\n",
      "dtypes: float64(6), object(1)\n",
      "memory usage: 871.7+ KB\n",
      "None\n"
     ]
    },
    {
     "data": {
      "text/html": [
       "<style  type=\"text/css\" >\n",
       "#T_7c03c_row0_col1,#T_7c03c_row0_col2,#T_7c03c_row0_col3,#T_7c03c_row0_col4,#T_7c03c_row0_col5{\n",
       "            background-color:  #fdaf62;\n",
       "            color:  #000000;\n",
       "        }#T_7c03c_row0_col6,#T_7c03c_row1_col1,#T_7c03c_row1_col2,#T_7c03c_row1_col3,#T_7c03c_row1_col4,#T_7c03c_row1_col5,#T_7c03c_row1_col6,#T_7c03c_row2_col6,#T_7c03c_row3_col6,#T_7c03c_row4_col6{\n",
       "            background-color:  #9e0142;\n",
       "            color:  #f1f1f1;\n",
       "        }#T_7c03c_row2_col1,#T_7c03c_row2_col2,#T_7c03c_row2_col3,#T_7c03c_row2_col4,#T_7c03c_row2_col5{\n",
       "            background-color:  #de4c4b;\n",
       "            color:  #000000;\n",
       "        }#T_7c03c_row3_col1,#T_7c03c_row3_col2,#T_7c03c_row3_col3,#T_7c03c_row3_col4,#T_7c03c_row3_col5{\n",
       "            background-color:  #64c0a6;\n",
       "            color:  #000000;\n",
       "        }#T_7c03c_row4_col1,#T_7c03c_row4_col2,#T_7c03c_row4_col3,#T_7c03c_row4_col4,#T_7c03c_row4_col5{\n",
       "            background-color:  #5e4fa2;\n",
       "            color:  #f1f1f1;\n",
       "        }</style><table id=\"T_7c03c_\" ><thead>    <tr>        <th class=\"blank level0\" ></th>        <th class=\"col_heading level0 col0\" >Index</th>        <th class=\"col_heading level0 col1\" >Open</th>        <th class=\"col_heading level0 col2\" >High</th>        <th class=\"col_heading level0 col3\" >Low</th>        <th class=\"col_heading level0 col4\" >Close</th>        <th class=\"col_heading level0 col5\" >Adj Close</th>        <th class=\"col_heading level0 col6\" >Volume</th>    </tr>    <tr>        <th class=\"index_name level0\" >Date</th>        <th class=\"blank\" ></th>        <th class=\"blank\" ></th>        <th class=\"blank\" ></th>        <th class=\"blank\" ></th>        <th class=\"blank\" ></th>        <th class=\"blank\" ></th>        <th class=\"blank\" ></th>    </tr></thead><tbody>\n",
       "                <tr>\n",
       "                        <th id=\"T_7c03c_level0_row0\" class=\"row_heading level0 row0\" >1965-12-31 00:00:00</th>\n",
       "                        <td id=\"T_7c03c_row0_col0\" class=\"data row0 col0\" >NYA</td>\n",
       "                        <td id=\"T_7c03c_row0_col1\" class=\"data row0 col1\" >528.690002</td>\n",
       "                        <td id=\"T_7c03c_row0_col2\" class=\"data row0 col2\" >528.690002</td>\n",
       "                        <td id=\"T_7c03c_row0_col3\" class=\"data row0 col3\" >528.690002</td>\n",
       "                        <td id=\"T_7c03c_row0_col4\" class=\"data row0 col4\" >528.690002</td>\n",
       "                        <td id=\"T_7c03c_row0_col5\" class=\"data row0 col5\" >528.690002</td>\n",
       "                        <td id=\"T_7c03c_row0_col6\" class=\"data row0 col6\" >0.000000</td>\n",
       "            </tr>\n",
       "            <tr>\n",
       "                        <th id=\"T_7c03c_level0_row1\" class=\"row_heading level0 row1\" >1966-01-03 00:00:00</th>\n",
       "                        <td id=\"T_7c03c_row1_col0\" class=\"data row1 col0\" >NYA</td>\n",
       "                        <td id=\"T_7c03c_row1_col1\" class=\"data row1 col1\" >527.210022</td>\n",
       "                        <td id=\"T_7c03c_row1_col2\" class=\"data row1 col2\" >527.210022</td>\n",
       "                        <td id=\"T_7c03c_row1_col3\" class=\"data row1 col3\" >527.210022</td>\n",
       "                        <td id=\"T_7c03c_row1_col4\" class=\"data row1 col4\" >527.210022</td>\n",
       "                        <td id=\"T_7c03c_row1_col5\" class=\"data row1 col5\" >527.210022</td>\n",
       "                        <td id=\"T_7c03c_row1_col6\" class=\"data row1 col6\" >0.000000</td>\n",
       "            </tr>\n",
       "            <tr>\n",
       "                        <th id=\"T_7c03c_level0_row2\" class=\"row_heading level0 row2\" >1966-01-04 00:00:00</th>\n",
       "                        <td id=\"T_7c03c_row2_col0\" class=\"data row2 col0\" >NYA</td>\n",
       "                        <td id=\"T_7c03c_row2_col1\" class=\"data row2 col1\" >527.840027</td>\n",
       "                        <td id=\"T_7c03c_row2_col2\" class=\"data row2 col2\" >527.840027</td>\n",
       "                        <td id=\"T_7c03c_row2_col3\" class=\"data row2 col3\" >527.840027</td>\n",
       "                        <td id=\"T_7c03c_row2_col4\" class=\"data row2 col4\" >527.840027</td>\n",
       "                        <td id=\"T_7c03c_row2_col5\" class=\"data row2 col5\" >527.840027</td>\n",
       "                        <td id=\"T_7c03c_row2_col6\" class=\"data row2 col6\" >0.000000</td>\n",
       "            </tr>\n",
       "            <tr>\n",
       "                        <th id=\"T_7c03c_level0_row3\" class=\"row_heading level0 row3\" >1966-01-05 00:00:00</th>\n",
       "                        <td id=\"T_7c03c_row3_col0\" class=\"data row3 col0\" >NYA</td>\n",
       "                        <td id=\"T_7c03c_row3_col1\" class=\"data row3 col1\" >531.119995</td>\n",
       "                        <td id=\"T_7c03c_row3_col2\" class=\"data row3 col2\" >531.119995</td>\n",
       "                        <td id=\"T_7c03c_row3_col3\" class=\"data row3 col3\" >531.119995</td>\n",
       "                        <td id=\"T_7c03c_row3_col4\" class=\"data row3 col4\" >531.119995</td>\n",
       "                        <td id=\"T_7c03c_row3_col5\" class=\"data row3 col5\" >531.119995</td>\n",
       "                        <td id=\"T_7c03c_row3_col6\" class=\"data row3 col6\" >0.000000</td>\n",
       "            </tr>\n",
       "            <tr>\n",
       "                        <th id=\"T_7c03c_level0_row4\" class=\"row_heading level0 row4\" >1966-01-06 00:00:00</th>\n",
       "                        <td id=\"T_7c03c_row4_col0\" class=\"data row4 col0\" >NYA</td>\n",
       "                        <td id=\"T_7c03c_row4_col1\" class=\"data row4 col1\" >532.070007</td>\n",
       "                        <td id=\"T_7c03c_row4_col2\" class=\"data row4 col2\" >532.070007</td>\n",
       "                        <td id=\"T_7c03c_row4_col3\" class=\"data row4 col3\" >532.070007</td>\n",
       "                        <td id=\"T_7c03c_row4_col4\" class=\"data row4 col4\" >532.070007</td>\n",
       "                        <td id=\"T_7c03c_row4_col5\" class=\"data row4 col5\" >532.070007</td>\n",
       "                        <td id=\"T_7c03c_row4_col6\" class=\"data row4 col6\" >0.000000</td>\n",
       "            </tr>\n",
       "    </tbody></table>"
      ],
      "text/plain": [
       "<pandas.io.formats.style.Styler at 0x7f0ee8cc3650>"
      ]
     },
     "execution_count": 3,
     "metadata": {},
     "output_type": "execute_result"
    }
   ],
   "source": [
    "# Sort the data for NYA\n",
    "df = df.dropna(axis=0)\n",
    "df_nya = df[df['Index'] == 'NYA']\n",
    "print(df_nya.shape)\n",
    "print()\n",
    "print(df_nya.info())\n",
    "df_nya.head().style.background_gradient(cmap=\"Spectral\")"
   ]
  },
  {
   "cell_type": "code",
   "execution_count": 4,
   "id": "a1166bc1",
   "metadata": {
    "execution": {
     "iopub.execute_input": "2021-08-11T13:07:38.151217Z",
     "iopub.status.busy": "2021-08-11T13:07:38.150426Z",
     "iopub.status.idle": "2021-08-11T13:07:38.153135Z",
     "shell.execute_reply": "2021-08-11T13:07:38.152722Z",
     "shell.execute_reply.started": "2021-08-11T12:36:31.803153Z"
    },
    "papermill": {
     "duration": 0.022115,
     "end_time": "2021-08-11T13:07:38.153248",
     "exception": false,
     "start_time": "2021-08-11T13:07:38.131133",
     "status": "completed"
    },
    "tags": []
   },
   "outputs": [],
   "source": [
    "# Generate a profilereport based on a pandas dataframe\n",
    "#profile = ProfileReport(df_nya, title = \"Pandas Profiling Report\")\n",
    "#profile"
   ]
  },
  {
   "cell_type": "code",
   "execution_count": 5,
   "id": "1fd0f0a1",
   "metadata": {
    "execution": {
     "iopub.execute_input": "2021-08-11T13:07:38.202022Z",
     "iopub.status.busy": "2021-08-11T13:07:38.201209Z",
     "iopub.status.idle": "2021-08-11T13:07:38.390573Z",
     "shell.execute_reply": "2021-08-11T13:07:38.390947Z",
     "shell.execute_reply.started": "2021-08-11T12:36:31.809262Z"
    },
    "papermill": {
     "duration": 0.221609,
     "end_time": "2021-08-11T13:07:38.391118",
     "exception": false,
     "start_time": "2021-08-11T13:07:38.169509",
     "status": "completed"
    },
    "tags": []
   },
   "outputs": [
    {
     "data": {
      "image/png": "[encoded data removed]",
      "text/plain": [
       "<Figure size 1152x576 with 1 Axes>"
      ]
     },
     "metadata": {},
     "output_type": "display_data"
    }
   ],
   "source": [
    "# Visualization\n",
    "plt.style.use('Solarize_Light2')\n",
    "plt.figure(figsize = (16, 8))\n",
    "plt.title('Close Price History')\n",
    "plt.plot(df_nya['Close'])\n",
    "plt.xlabel('Date', fontsize = 18)\n",
    "plt.ylabel('Close Price NYA', fontsize = 18)\n",
    "plt.show()"
   ]
  },
  {
   "cell_type": "code",
   "execution_count": 6,
   "id": "c9e9f42c",
   "metadata": {
    "execution": {
     "iopub.execute_input": "2021-08-11T13:07:38.432844Z",
     "iopub.status.busy": "2021-08-11T13:07:38.432223Z",
     "iopub.status.idle": "2021-08-11T13:07:38.435153Z",
     "shell.execute_reply": "2021-08-11T13:07:38.435576Z",
     "shell.execute_reply.started": "2021-08-11T12:36:31.998135Z"
    },
    "papermill": {
     "duration": 0.026756,
     "end_time": "2021-08-11T13:07:38.435698",
     "exception": false,
     "start_time": "2021-08-11T13:07:38.408942",
     "status": "completed"
    },
    "tags": []
   },
   "outputs": [
    {
     "name": "stdout",
     "output_type": "stream",
     "text": [
      "11157.6\n",
      "\n",
      "11158\n"
     ]
    }
   ],
   "source": [
    "# Create a new dataframe with only the 'Close' column\n",
    "df_nya = df_nya.filter(['Close'])\n",
    "dataset = df_nya.values\n",
    "training_data_len_1 = len(dataset) * .8\n",
    "print(training_data_len_1)\n",
    "\n",
    "# Round a number upward to its nearest integer\n",
    "trainig_data_len = math.ceil(len(dataset) * .8)\n",
    "print()\n",
    "print(trainig_data_len)"
   ]
  },
  {
   "cell_type": "code",
   "execution_count": 7,
   "id": "693090d7",
   "metadata": {
    "execution": {
     "iopub.execute_input": "2021-08-11T13:07:38.475881Z",
     "iopub.status.busy": "2021-08-11T13:07:38.475134Z",
     "iopub.status.idle": "2021-08-11T13:07:38.478738Z",
     "shell.execute_reply": "2021-08-11T13:07:38.478349Z",
     "shell.execute_reply.started": "2021-08-11T12:36:32.007329Z"
    },
    "papermill": {
     "duration": 0.025441,
     "end_time": "2021-08-11T13:07:38.478840",
     "exception": false,
     "start_time": "2021-08-11T13:07:38.453399",
     "status": "completed"
    },
    "tags": []
   },
   "outputs": [
    {
     "data": {
      "text/plain": [
       "array([[  528.690002],\n",
       "       [  527.210022],\n",
       "       [  527.840027],\n",
       "       ...,\n",
       "       [16451.96094 ],\n",
       "       [16531.94922 ],\n",
       "       [16555.66016 ]])"
      ]
     },
     "execution_count": 7,
     "metadata": {},
     "output_type": "execute_result"
    }
   ],
   "source": [
    "dataset"
   ]
  },
  {
   "cell_type": "code",
   "execution_count": 8,
   "id": "3178e9dd",
   "metadata": {
    "execution": {
     "iopub.execute_input": "2021-08-11T13:07:38.520640Z",
     "iopub.status.busy": "2021-08-11T13:07:38.519788Z",
     "iopub.status.idle": "2021-08-11T13:07:38.524900Z",
     "shell.execute_reply": "2021-08-11T13:07:38.525328Z",
     "shell.execute_reply.started": "2021-08-11T12:36:32.024740Z"
    },
    "papermill": {
     "duration": 0.028458,
     "end_time": "2021-08-11T13:07:38.525471",
     "exception": false,
     "start_time": "2021-08-11T13:07:38.497013",
     "status": "completed"
    },
    "tags": []
   },
   "outputs": [
    {
     "data": {
      "text/plain": [
       "array([[0.01113857],\n",
       "       [0.01104745],\n",
       "       [0.01108624],\n",
       "       ...,\n",
       "       [0.991475  ],\n",
       "       [0.99639958],\n",
       "       [0.99785937]])"
      ]
     },
     "execution_count": 8,
     "metadata": {},
     "output_type": "execute_result"
    }
   ],
   "source": [
    "# Scale the data\n",
    "scaler = MinMaxScaler(feature_range = (0, 1))\n",
    "scaled_data = scaler.fit_transform(dataset)\n",
    "scaled_data"
   ]
  },
  {
   "cell_type": "code",
   "execution_count": 9,
   "id": "f2b478ac",
   "metadata": {
    "execution": {
     "iopub.execute_input": "2021-08-11T13:07:38.582923Z",
     "iopub.status.busy": "2021-08-11T13:07:38.582030Z",
     "iopub.status.idle": "2021-08-11T13:07:38.586838Z",
     "shell.execute_reply": "2021-08-11T13:07:38.586264Z",
     "shell.execute_reply.started": "2021-08-11T12:36:32.036162Z"
    },
    "papermill": {
     "duration": 0.042561,
     "end_time": "2021-08-11T13:07:38.586992",
     "exception": false,
     "start_time": "2021-08-11T13:07:38.544431",
     "status": "completed"
    },
    "tags": []
   },
   "outputs": [
    {
     "name": "stdout",
     "output_type": "stream",
     "text": [
      "[array([0.01113857, 0.01104745, 0.01108624, 0.01128818, 0.01134666,\n",
      "       0.01137929, 0.01145748, 0.01148334, 0.01142486, 0.01149012,\n",
      "       0.01155476, 0.01167851, 0.01176962, 0.01169143, 0.0115683 ,\n",
      "       0.01158739, 0.01169143, 0.01171791, 0.01168528, 0.01167235,\n",
      "       0.0115683 , 0.01142486, 0.01116443, 0.01130788, 0.01134666,\n",
      "       0.01155476, 0.01166558, 0.01163972, 0.01182811, 0.01173699,\n",
      "       0.01173084, 0.01169821, 0.01155476, 0.0115486 , 0.01137252,\n",
      "       0.01130788, 0.0111121 , 0.01096926, 0.0107544 , 0.01084551,\n",
      "       0.0108843 , 0.01047427, 0.01016213, 0.01029203, 0.01019414,\n",
      "       0.00976503, 0.00979704, 0.01005747, 0.01006424, 0.01003838,\n",
      "       0.00967391, 0.0094652 , 0.00963451, 0.0097324 , 0.009882  ,\n",
      "       0.01012273, 0.01021384, 0.0101098 , 0.01015536, 0.01023355])]\n",
      "[0.010292034437543993]\n",
      "\n",
      "[array([0.01113857, 0.01104745, 0.01108624, 0.01128818, 0.01134666,\n",
      "       0.01137929, 0.01145748, 0.01148334, 0.01142486, 0.01149012,\n",
      "       0.01155476, 0.01167851, 0.01176962, 0.01169143, 0.0115683 ,\n",
      "       0.01158739, 0.01169143, 0.01171791, 0.01168528, 0.01167235,\n",
      "       0.0115683 , 0.01142486, 0.01116443, 0.01130788, 0.01134666,\n",
      "       0.01155476, 0.01166558, 0.01163972, 0.01182811, 0.01173699,\n",
      "       0.01173084, 0.01169821, 0.01155476, 0.0115486 , 0.01137252,\n",
      "       0.01130788, 0.0111121 , 0.01096926, 0.0107544 , 0.01084551,\n",
      "       0.0108843 , 0.01047427, 0.01016213, 0.01029203, 0.01019414,\n",
      "       0.00976503, 0.00979704, 0.01005747, 0.01006424, 0.01003838,\n",
      "       0.00967391, 0.0094652 , 0.00963451, 0.0097324 , 0.009882  ,\n",
      "       0.01012273, 0.01021384, 0.0101098 , 0.01015536, 0.01023355]), array([0.01104745, 0.01108624, 0.01128818, 0.01134666, 0.01137929,\n",
      "       0.01145748, 0.01148334, 0.01142486, 0.01149012, 0.01155476,\n",
      "       0.01167851, 0.01176962, 0.01169143, 0.0115683 , 0.01158739,\n",
      "       0.01169143, 0.01171791, 0.01168528, 0.01167235, 0.0115683 ,\n",
      "       0.01142486, 0.01116443, 0.01130788, 0.01134666, 0.01155476,\n",
      "       0.01166558, 0.01163972, 0.01182811, 0.01173699, 0.01173084,\n",
      "       0.01169821, 0.01155476, 0.0115486 , 0.01137252, 0.01130788,\n",
      "       0.0111121 , 0.01096926, 0.0107544 , 0.01084551, 0.0108843 ,\n",
      "       0.01047427, 0.01016213, 0.01029203, 0.01019414, 0.00976503,\n",
      "       0.00979704, 0.01005747, 0.01006424, 0.01003838, 0.00967391,\n",
      "       0.0094652 , 0.00963451, 0.0097324 , 0.009882  , 0.01012273,\n",
      "       0.01021384, 0.0101098 , 0.01015536, 0.01023355, 0.01029203])]\n",
      "[0.010292034437543993, 0.01016213052778775]\n",
      "\n"
     ]
    }
   ],
   "source": [
    "# Create training dataset\n",
    "train_data = scaled_data[0 : trainig_data_len, :]\n",
    "\n",
    "# Split the data into x_train and y_train data sets\n",
    "x_train = []\n",
    "y_train = []\n",
    "\n",
    "for i in range (60, len(train_data)):\n",
    "    x_train.append(train_data[i - 60: i, 0])\n",
    "    y_train.append(train_data[i, 0])\n",
    "    if i <= 61:\n",
    "        print(x_train)\n",
    "        print(y_train)\n",
    "        print()"
   ]
  },
  {
   "cell_type": "code",
   "execution_count": 10,
   "id": "e3f1b272",
   "metadata": {
    "execution": {
     "iopub.execute_input": "2021-08-11T13:07:38.630448Z",
     "iopub.status.busy": "2021-08-11T13:07:38.629506Z",
     "iopub.status.idle": "2021-08-11T13:07:38.644609Z",
     "shell.execute_reply": "2021-08-11T13:07:38.645217Z",
     "shell.execute_reply.started": "2021-08-11T12:36:32.062482Z"
    },
    "papermill": {
     "duration": 0.038614,
     "end_time": "2021-08-11T13:07:38.645396",
     "exception": false,
     "start_time": "2021-08-11T13:07:38.606782",
     "status": "completed"
    },
    "tags": []
   },
   "outputs": [
    {
     "name": "stdout",
     "output_type": "stream",
     "text": [
      "(11098, 60)\n",
      "(11098,)\n"
     ]
    }
   ],
   "source": [
    "# Convert x_train and y_train to numpy arrays\n",
    "x_train, y_train = np.array(x_train), np.array(y_train)\n",
    "print(x_train.shape)\n",
    "print(y_train.shape)"
   ]
  },
  {
   "cell_type": "code",
   "execution_count": 11,
   "id": "8a3a6138",
   "metadata": {
    "execution": {
     "iopub.execute_input": "2021-08-11T13:07:38.690093Z",
     "iopub.status.busy": "2021-08-11T13:07:38.689376Z",
     "iopub.status.idle": "2021-08-11T13:07:38.692473Z",
     "shell.execute_reply": "2021-08-11T13:07:38.692953Z",
     "shell.execute_reply.started": "2021-08-11T12:36:32.082130Z"
    },
    "papermill": {
     "duration": 0.027784,
     "end_time": "2021-08-11T13:07:38.693081",
     "exception": false,
     "start_time": "2021-08-11T13:07:38.665297",
     "status": "completed"
    },
    "tags": []
   },
   "outputs": [
    {
     "data": {
      "text/plain": [
       "(11098, 60, 1)"
      ]
     },
     "execution_count": 11,
     "metadata": {},
     "output_type": "execute_result"
    }
   ],
   "source": [
    "# Reshape the data\n",
    "x_train = np.reshape(x_train, (x_train.shape[0], x_train.shape[1], 1))\n",
    "x_train.shape"
   ]
  },
  {
   "cell_type": "code",
   "execution_count": 12,
   "id": "aaeb8ffe",
   "metadata": {
    "execution": {
     "iopub.execute_input": "2021-08-11T13:07:38.738170Z",
     "iopub.status.busy": "2021-08-11T13:07:38.737561Z",
     "iopub.status.idle": "2021-08-11T13:07:41.153396Z",
     "shell.execute_reply": "2021-08-11T13:07:41.152903Z",
     "shell.execute_reply.started": "2021-08-11T13:05:19.760532Z"
    },
    "papermill": {
     "duration": 2.441072,
     "end_time": "2021-08-11T13:07:41.153533",
     "exception": false,
     "start_time": "2021-08-11T13:07:38.712461",
     "status": "completed"
    },
    "tags": []
   },
   "outputs": [],
   "source": [
    "# Build the LSTM model\n",
    "model = Sequential()\n",
    "model.add(LSTM(100, return_sequences = True, input_shape=(x_train.shape[1], 1)))\n",
    "model.add(LSTM(100, return_sequences = False))\n",
    "model.add(Dense(50))\n",
    "model.add(Dense(1))"
   ]
  },
  {
   "cell_type": "code",
   "execution_count": 13,
   "id": "d73dc329",
   "metadata": {
    "execution": {
     "iopub.execute_input": "2021-08-11T13:07:41.197997Z",
     "iopub.status.busy": "2021-08-11T13:07:41.197236Z",
     "iopub.status.idle": "2021-08-11T13:07:41.210613Z",
     "shell.execute_reply": "2021-08-11T13:07:41.210201Z",
     "shell.execute_reply.started": "2021-08-11T13:05:21.771752Z"
    },
    "papermill": {
     "duration": 0.037225,
     "end_time": "2021-08-11T13:07:41.210729",
     "exception": false,
     "start_time": "2021-08-11T13:07:41.173504",
     "status": "completed"
    },
    "tags": []
   },
   "outputs": [],
   "source": [
    "# Compile the model\n",
    "model.compile(optimizer = 'adam', loss = 'mean_squared_error')"
   ]
  },
  {
   "cell_type": "code",
   "execution_count": 14,
   "id": "f985bce1",
   "metadata": {
    "execution": {
     "iopub.execute_input": "2021-08-11T13:07:41.253803Z",
     "iopub.status.busy": "2021-08-11T13:07:41.253293Z",
     "iopub.status.idle": "2021-08-11T13:08:54.671439Z",
     "shell.execute_reply": "2021-08-11T13:08:54.671812Z",
     "shell.execute_reply.started": "2021-08-11T13:05:23.626482Z"
    },
    "papermill": {
     "duration": 73.441856,
     "end_time": "2021-08-11T13:08:54.671988",
     "exception": false,
     "start_time": "2021-08-11T13:07:41.230132",
     "status": "completed"
    },
    "tags": []
   },
   "outputs": [
    {
     "name": "stdout",
     "output_type": "stream",
     "text": [
      "11098/11098 [==============================] - 73s 6ms/step - loss: 4.0977e-04\n"
     ]
    },
    {
     "data": {
      "text/plain": [
       "<tensorflow.python.keras.callbacks.History at 0x7f0ec00f41d0>"
      ]
     },
     "execution_count": 14,
     "metadata": {},
     "output_type": "execute_result"
    }
   ],
   "source": [
    "# Train the model\n",
    "model.fit(x_train, y_train, batch_size = 1, epochs = 1)"
   ]
  },
  {
   "cell_type": "code",
   "execution_count": 15,
   "id": "258af544",
   "metadata": {
    "execution": {
     "iopub.execute_input": "2021-08-11T13:08:55.344416Z",
     "iopub.status.busy": "2021-08-11T13:08:55.342992Z",
     "iopub.status.idle": "2021-08-11T13:08:55.345287Z",
     "shell.execute_reply": "2021-08-11T13:08:55.345700Z",
     "shell.execute_reply.started": "2021-08-11T13:06:38.380922Z"
    },
    "papermill": {
     "duration": 0.340063,
     "end_time": "2021-08-11T13:08:55.345838",
     "exception": false,
     "start_time": "2021-08-11T13:08:55.005775",
     "status": "completed"
    },
    "tags": []
   },
   "outputs": [],
   "source": [
    "# Create the testing data set\n",
    "# Create a new array containing scaled values\n",
    "test_data = scaled_data[trainig_data_len - 60: , :]\n",
    "# Create the data sets x_test and y_test\n",
    "x_test = []\n",
    "y_test = dataset[trainig_data_len: , :]\n",
    "for i in range(60, len(test_data)):\n",
    "    x_test.append(test_data[i-60:i, 0])"
   ]
  },
  {
   "cell_type": "code",
   "execution_count": 16,
   "id": "deb738a3",
   "metadata": {
    "execution": {
     "iopub.execute_input": "2021-08-11T13:08:56.011979Z",
     "iopub.status.busy": "2021-08-11T13:08:56.011203Z",
     "iopub.status.idle": "2021-08-11T13:08:56.018837Z",
     "shell.execute_reply": "2021-08-11T13:08:56.018390Z",
     "shell.execute_reply.started": "2021-08-11T13:06:40.666646Z"
    },
    "papermill": {
     "duration": 0.342895,
     "end_time": "2021-08-11T13:08:56.018952",
     "exception": false,
     "start_time": "2021-08-11T13:08:55.676057",
     "status": "completed"
    },
    "tags": []
   },
   "outputs": [
    {
     "name": "stdout",
     "output_type": "stream",
     "text": [
      "[[0.39649232 0.39617773 0.39193705 ... 0.44031891 0.44583339 0.43876003]\n",
      " [0.39617773 0.39193705 0.39940443 ... 0.44583339 0.43876003 0.44299088]\n",
      " [0.39193705 0.39940443 0.3984169  ... 0.43876003 0.44299088 0.43031623]\n",
      " ...\n",
      " [0.91913823 0.91434659 0.89958421 ... 0.9867368  0.99225864 0.98767195]\n",
      " [0.91434659 0.89958421 0.91758741 ... 0.99225864 0.98767195 0.991475  ]\n",
      " [0.89958421 0.91758741 0.91983765 ... 0.98767195 0.991475   0.99639958]]\n",
      "\n",
      "(2789, 60)\n"
     ]
    }
   ],
   "source": [
    "# Convert the data to a numpy array\n",
    "x_test = np.array(x_test)\n",
    "print(x_test)\n",
    "print()\n",
    "print(x_test.shape)"
   ]
  },
  {
   "cell_type": "code",
   "execution_count": 17,
   "id": "f1848891",
   "metadata": {
    "execution": {
     "iopub.execute_input": "2021-08-11T13:08:56.685710Z",
     "iopub.status.busy": "2021-08-11T13:08:56.685140Z",
     "iopub.status.idle": "2021-08-11T13:08:56.690591Z",
     "shell.execute_reply": "2021-08-11T13:08:56.691137Z",
     "shell.execute_reply.started": "2021-08-11T13:06:42.224007Z"
    },
    "papermill": {
     "duration": 0.341764,
     "end_time": "2021-08-11T13:08:56.691319",
     "exception": false,
     "start_time": "2021-08-11T13:08:56.349555",
     "status": "completed"
    },
    "tags": []
   },
   "outputs": [
    {
     "name": "stdout",
     "output_type": "stream",
     "text": [
      "(2789, 60, 1)\n"
     ]
    }
   ],
   "source": [
    "# Reshape the data \n",
    "x_test = np.reshape(x_test, (x_test.shape[0], x_test.shape[1], 1))\n",
    "print(x_test.shape)"
   ]
  },
  {
   "cell_type": "code",
   "execution_count": 18,
   "id": "6c09dee4",
   "metadata": {
    "execution": {
     "iopub.execute_input": "2021-08-11T13:08:57.374091Z",
     "iopub.status.busy": "2021-08-11T13:08:57.373295Z",
     "iopub.status.idle": "2021-08-11T13:08:58.174883Z",
     "shell.execute_reply": "2021-08-11T13:08:58.174382Z",
     "shell.execute_reply.started": "2021-08-11T13:06:45.829798Z"
    },
    "papermill": {
     "duration": 1.149801,
     "end_time": "2021-08-11T13:08:58.175020",
     "exception": false,
     "start_time": "2021-08-11T13:08:57.025219",
     "status": "completed"
    },
    "tags": []
   },
   "outputs": [
    {
     "data": {
      "text/plain": [
       "array([[ 7686.1313],\n",
       "       [ 7701.129 ],\n",
       "       [ 7598.055 ],\n",
       "       ...,\n",
       "       [16473.832 ],\n",
       "       [16497.574 ],\n",
       "       [16550.016 ]], dtype=float32)"
      ]
     },
     "execution_count": 18,
     "metadata": {},
     "output_type": "execute_result"
    }
   ],
   "source": [
    "# Get the models predicted price values\n",
    "predictions = model.predict(x_test)\n",
    "predictions = scaler.inverse_transform(predictions)\n",
    "predictions"
   ]
  },
  {
   "cell_type": "code",
   "execution_count": 19,
   "id": "a5f01b61",
   "metadata": {
    "execution": {
     "iopub.execute_input": "2021-08-11T13:08:58.859311Z",
     "iopub.status.busy": "2021-08-11T13:08:58.858741Z",
     "iopub.status.idle": "2021-08-11T13:08:58.864367Z",
     "shell.execute_reply": "2021-08-11T13:08:58.863939Z",
     "shell.execute_reply.started": "2021-08-11T13:06:48.350360Z"
    },
    "papermill": {
     "duration": 0.343242,
     "end_time": "2021-08-11T13:08:58.864486",
     "exception": false,
     "start_time": "2021-08-11T13:08:58.521244",
     "status": "completed"
    },
    "tags": []
   },
   "outputs": [
    {
     "data": {
      "text/plain": [
       "199.3082962170917"
      ]
     },
     "execution_count": 19,
     "metadata": {},
     "output_type": "execute_result"
    }
   ],
   "source": [
    "# Root mean squared error (RMSE)\n",
    "rmse = np.sqrt(np.mean(predictions - y_test) ** 2)\n",
    "rmse"
   ]
  },
  {
   "cell_type": "code",
   "execution_count": 20,
   "id": "0b43c307",
   "metadata": {
    "execution": {
     "iopub.execute_input": "2021-08-11T13:08:59.727395Z",
     "iopub.status.busy": "2021-08-11T13:08:59.726515Z",
     "iopub.status.idle": "2021-08-11T13:08:59.754200Z",
     "shell.execute_reply": "2021-08-11T13:08:59.754816Z",
     "shell.execute_reply.started": "2021-08-11T13:06:51.283418Z"
    },
    "papermill": {
     "duration": 0.557735,
     "end_time": "2021-08-11T13:08:59.755015",
     "exception": false,
     "start_time": "2021-08-11T13:08:59.197280",
     "status": "completed"
    },
    "tags": []
   },
   "outputs": [
    {
     "name": "stderr",
     "output_type": "stream",
     "text": [
      "/opt/conda/lib/python3.7/site-packages/ipykernel_launcher.py:3: SettingWithCopyWarning: \n",
      "A value is trying to be set on a copy of a slice from a DataFrame.\n",
      "Try using .loc[row_indexer,col_indexer] = value instead\n",
      "\n",
      "See the caveats in the documentation: https://pandas.pydata.org/pandas-docs/stable/user_guide/indexing.html#returning-a-view-versus-a-copy\n",
      "  This is separate from the ipykernel package so we can avoid doing imports until\n"
     ]
    },
    {
     "data": {
      "text/html": [
       "<style  type=\"text/css\" >\n",
       "#T_c331a_row0_col0,#T_c331a_row1_col1{\n",
       "            background-color:  #5e4fa2;\n",
       "            color:  #f1f1f1;\n",
       "        }#T_c331a_row0_col1{\n",
       "            background-color:  #4d65ad;\n",
       "            color:  #f1f1f1;\n",
       "        }#T_c331a_row1_col0{\n",
       "            background-color:  #bce4a0;\n",
       "            color:  #000000;\n",
       "        }#T_c331a_row2_col0{\n",
       "            background-color:  #f4faad;\n",
       "            color:  #000000;\n",
       "        }#T_c331a_row2_col1{\n",
       "            background-color:  #9fd8a4;\n",
       "            color:  #000000;\n",
       "        }#T_c331a_row3_col0{\n",
       "            background-color:  #e55749;\n",
       "            color:  #000000;\n",
       "        }#T_c331a_row3_col1{\n",
       "            background-color:  #fff3ac;\n",
       "            color:  #000000;\n",
       "        }#T_c331a_row4_col0,#T_c331a_row4_col1{\n",
       "            background-color:  #9e0142;\n",
       "            color:  #f1f1f1;\n",
       "        }</style><table id=\"T_c331a_\" ><thead>    <tr>        <th class=\"blank level0\" ></th>        <th class=\"col_heading level0 col0\" >Close</th>        <th class=\"col_heading level0 col1\" >Predictions</th>    </tr>    <tr>        <th class=\"index_name level0\" >Date</th>        <th class=\"blank\" ></th>        <th class=\"blank\" ></th>    </tr></thead><tbody>\n",
       "                <tr>\n",
       "                        <th id=\"T_c331a_level0_row0\" class=\"row_heading level0 row0\" >2010-05-03 00:00:00</th>\n",
       "                        <td id=\"T_c331a_row0_col0\" class=\"data row0 col0\" >7543.120117</td>\n",
       "                        <td id=\"T_c331a_row0_col1\" class=\"data row0 col1\" >7686.131348</td>\n",
       "            </tr>\n",
       "            <tr>\n",
       "                        <th id=\"T_c331a_level0_row1\" class=\"row_heading level0 row1\" >2010-05-04 00:00:00</th>\n",
       "                        <td id=\"T_c331a_row1_col0\" class=\"data row1 col0\" >7337.250000</td>\n",
       "                        <td id=\"T_c331a_row1_col1\" class=\"data row1 col1\" >7701.128906</td>\n",
       "            </tr>\n",
       "            <tr>\n",
       "                        <th id=\"T_c331a_level0_row2\" class=\"row_heading level0 row2\" >2010-05-05 00:00:00</th>\n",
       "                        <td id=\"T_c331a_row2_col0\" class=\"data row2 col0\" >7258.020020</td>\n",
       "                        <td id=\"T_c331a_row2_col1\" class=\"data row2 col1\" >7598.055176</td>\n",
       "            </tr>\n",
       "            <tr>\n",
       "                        <th id=\"T_c331a_level0_row3\" class=\"row_heading level0 row3\" >2010-05-06 00:00:00</th>\n",
       "                        <td id=\"T_c331a_row3_col0\" class=\"data row3 col0\" >7011.919922</td>\n",
       "                        <td id=\"T_c331a_row3_col1\" class=\"data row3 col1\" >7507.550293</td>\n",
       "            </tr>\n",
       "            <tr>\n",
       "                        <th id=\"T_c331a_level0_row4\" class=\"row_heading level0 row4\" >2010-05-07 00:00:00</th>\n",
       "                        <td id=\"T_c331a_row4_col0\" class=\"data row4 col0\" >6916.180176</td>\n",
       "                        <td id=\"T_c331a_row4_col1\" class=\"data row4 col1\" >7339.506348</td>\n",
       "            </tr>\n",
       "    </tbody></table>"
      ],
      "text/plain": [
       "<pandas.io.formats.style.Styler at 0x7f0a692f1d10>"
      ]
     },
     "execution_count": 20,
     "metadata": {},
     "output_type": "execute_result"
    }
   ],
   "source": [
    "train = df_nya[:trainig_data_len]\n",
    "valid = df_nya[trainig_data_len:]\n",
    "valid['Predictions'] = predictions\n",
    "valid.head().style.background_gradient(cmap=\"Spectral\")"
   ]
  },
  {
   "cell_type": "code",
   "execution_count": 21,
   "id": "d70bf6a0",
   "metadata": {
    "execution": {
     "iopub.execute_input": "2021-08-11T13:09:00.743401Z",
     "iopub.status.busy": "2021-08-11T13:09:00.742487Z",
     "iopub.status.idle": "2021-08-11T13:09:00.998769Z",
     "shell.execute_reply": "2021-08-11T13:09:00.998278Z",
     "shell.execute_reply.started": "2021-08-11T13:07:03.965989Z"
    },
    "papermill": {
     "duration": 0.609957,
     "end_time": "2021-08-11T13:09:00.998897",
     "exception": false,
     "start_time": "2021-08-11T13:09:00.388940",
     "status": "completed"
    },
    "tags": []
   },
   "outputs": [
    {
     "name": "stderr",
     "output_type": "stream",
     "text": [
      "/opt/conda/lib/python3.7/site-packages/ipykernel_launcher.py:4: SettingWithCopyWarning: \n",
      "A value is trying to be set on a copy of a slice from a DataFrame.\n",
      "Try using .loc[row_indexer,col_indexer] = value instead\n",
      "\n",
      "See the caveats in the documentation: https://pandas.pydata.org/pandas-docs/stable/user_guide/indexing.html#returning-a-view-versus-a-copy\n",
      "  after removing the cwd from sys.path.\n"
     ]
    },
    {
     "data": {
      "text/plain": [
       "<function matplotlib.pyplot.show(close=None, block=None)>"
      ]
     },
     "execution_count": 21,
     "metadata": {},
     "output_type": "execute_result"
    },
    {
     "data": {
      "image/png": "[encoded data removed]",
      "text/plain": [
       "<Figure size 1152x576 with 1 Axes>"
      ]
     },
     "metadata": {},
     "output_type": "display_data"
    }
   ],
   "source": [
    "# Polot the data\n",
    "train = df_nya[:trainig_data_len]\n",
    "valid = df_nya[trainig_data_len:]\n",
    "valid['Predictions'] = predictions\n",
    "# Visualize the data\n",
    "plt.style.use('Solarize_Light2')\n",
    "plt.figure(figsize = (16, 8))\n",
    "plt.title('Model')\n",
    "plt.xlabel('Date', fontsize = 18)\n",
    "plt.ylabel('Close Price', fontsize = 18)\n",
    "plt.plot(train['Close'])\n",
    "plt.plot(valid[['Close', 'Predictions']])\n",
    "plt.legend(['Train', 'Val', 'Predictions'], loc = 'lower right', fontsize =  'x-large', labelcolor = 'grey')\n",
    "plt.show"
   ]
  }
 ],
 "metadata": {
  "kernelspec": {
   "display_name": "Python 3",
   "language": "python",
   "name": "python3"
  },
  "language_info": {
   "codemirror_mode": {
    "name": "ipython",
    "version": 3
   },
   "file_extension": ".py",
   "mimetype": "text/x-python",
   "name": "python",
   "nbconvert_exporter": "python",
   "pygments_lexer": "ipython3",
   "version": "3.7.10"
  },
  "papermill": {
   "default_parameters": {},
   "duration": 99.76109,
   "end_time": "2021-08-11T13:09:03.919905",
   "environment_variables": {},
   "exception": null,
   "input_path": "__notebook__.ipynb",
   "output_path": "__notebook__.ipynb",
   "parameters": {},
   "start_time": "2021-08-11T13:07:24.158815",
   "version": "2.3.3"
  }
 },
 "nbformat": 4,
 "nbformat_minor": 5
}
